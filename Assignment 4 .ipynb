{
 "cells": [
  {
   "cell_type": "markdown",
   "id": "502980a1",
   "metadata": {},
   "source": [
    "# Assigment 4 "
   ]
  },
  {
   "cell_type": "markdown",
   "id": "a6fbd2b5",
   "metadata": {},
   "source": [
    "#### 1.1 Write a Python Program(with class concepts) to find the area of the triangle using the below formula.\n",
    "#### area = (s*(s-a)*(s-b)*(s-c)) ** 0.5\n",
    "#### Function to take the length of the sides of triangle from user should be defined in the parentclass and function to calculate the area should be defined in subclass."
   ]
  },
  {
   "cell_type": "code",
   "execution_count": 2,
   "id": "d238a7a2",
   "metadata": {},
   "outputs": [
    {
     "name": "stdout",
     "output_type": "stream",
     "text": [
      "Enter 1st side2\n",
      "Enter 2nd side3\n",
      "Enter 3rd side4\n",
      "2.9047375096555625\n"
     ]
    }
   ],
   "source": [
    "# area  of traingle  \n",
    "\n",
    "def area_triangle(a,b,c):\n",
    "    s= (a+b+c)/2\n",
    "    area = (s*(s-a)*(s-b)*(s-c)) ** 0.5\n",
    "    print(area)\n",
    "\n",
    "\n",
    "#testing \n",
    "a= float(input(\"Enter 1st side\"))\n",
    "b= float(input(\"Enter 2nd side\"))\n",
    "c= float(input(\"Enter 3rd side\"))\n",
    "area_triangle(a,b,c)\n",
    "\n",
    "\n"
   ]
  },
  {
   "cell_type": "markdown",
   "id": "d658c8f3",
   "metadata": {},
   "source": [
    "#### 1.2 Write a function filter_long_words() that takes a list of words and an integer n and returns the list of words that are longer than n."
   ]
  },
  {
   "cell_type": "code",
   "execution_count": 5,
   "id": "280b23d1",
   "metadata": {},
   "outputs": [
    {
     "name": "stdout",
     "output_type": "stream",
     "text": [
      "Enter word length limit3\n",
      "['sleep']\n"
     ]
    }
   ],
   "source": [
    "def filter_long_words(word_list, n):\n",
    "    long_word=[]\n",
    "    for word in word_list:\n",
    "        if len(word)> n :\n",
    "            long_word.append(word)\n",
    "    print(long_word)\n",
    "\n",
    "# testing \n",
    "n= int(input(\"Enter word length limit\"))\n",
    "list1= ['car','bar', 'sleep']\n",
    "filter_long_words(list1,n)"
   ]
  },
  {
   "cell_type": "markdown",
   "id": "3559ed8a",
   "metadata": {},
   "source": [
    "#### 2.1 Write a Python program using function concept that maps list of words into a list of integers representing the lengths of the corresponding words."
   ]
  },
  {
   "cell_type": "code",
   "execution_count": 4,
   "id": "010fed65",
   "metadata": {},
   "outputs": [
    {
     "name": "stdout",
     "output_type": "stream",
     "text": [
      "[3, 3, 5]\n"
     ]
    }
   ],
   "source": [
    "def word_length_list(word_list):\n",
    "    word_length_list=[]\n",
    "    for word in word_list:\n",
    "        word_length_list.append(len(word))\n",
    "    print(word_length_list)\n",
    "\n",
    "# testing \n",
    "\n",
    "list1= ['car','bar', 'sleep']\n",
    "word_length_list(list1)"
   ]
  },
  {
   "cell_type": "markdown",
   "id": "d3dcb338",
   "metadata": {},
   "source": [
    "####  2.2 Write a Python function which takes a character (i.e. a string of length 1) and returns True if it is a vowel, False otherwise."
   ]
  },
  {
   "cell_type": "code",
   "execution_count": 4,
   "id": "8e4368f2",
   "metadata": {},
   "outputs": [
    {
     "name": "stdout",
     "output_type": "stream",
     "text": [
      "Its not a vowel\n"
     ]
    }
   ],
   "source": [
    "def identify_vowel(alphabet):\n",
    "    vowel_list= ['a','e','i','o','u']\n",
    "    if alphabet.lower() in vowel_list:\n",
    "        print(\"Its a vowel\")\n",
    "    else:\n",
    "        print(\"Its not a vowel\")\n",
    "\n",
    "# testing \n",
    "\n",
    "identify_vowel('f')"
   ]
  },
  {
   "cell_type": "code",
   "execution_count": null,
   "id": "a51ce8c0",
   "metadata": {},
   "outputs": [],
   "source": []
  }
 ],
 "metadata": {
  "kernelspec": {
   "display_name": "Python 3",
   "language": "python",
   "name": "python3"
  },
  "language_info": {
   "codemirror_mode": {
    "name": "ipython",
    "version": 3
   },
   "file_extension": ".py",
   "mimetype": "text/x-python",
   "name": "python",
   "nbconvert_exporter": "python",
   "pygments_lexer": "ipython3",
   "version": "3.7.10"
  }
 },
 "nbformat": 4,
 "nbformat_minor": 5
}
