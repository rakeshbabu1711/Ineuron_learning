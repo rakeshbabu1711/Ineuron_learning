{
 "cells": [
  {
   "cell_type": "markdown",
   "id": "54ebfd0a",
   "metadata": {},
   "source": [
    "# Assignment 2"
   ]
  },
  {
   "cell_type": "markdown",
   "id": "df029c7d",
   "metadata": {},
   "source": [
    "## 1: Create the below pattern using nested for loop in Python.\n",
    "\n",
    "### *\n",
    "### * *\n",
    "### * * *\n",
    "### * * * *\n",
    "### * * * * *\n",
    "### * * * *\n",
    "### * * *\n",
    "### * *\n",
    "### *"
   ]
  },
  {
   "cell_type": "code",
   "execution_count": 8,
   "id": "d9cb790d",
   "metadata": {},
   "outputs": [
    {
     "name": "stdout",
     "output_type": "stream",
     "text": [
      "  \n",
      "*  \n",
      "**  \n",
      "***  \n",
      "****  \n",
      "*****  \n",
      "******  \n",
      "*******  \n",
      "******  \n",
      "*****  \n",
      "****  \n",
      "***  \n",
      "**  \n",
      "*  \n"
     ]
    }
   ],
   "source": [
    "n= Input(\"Enter Number of rows: \")\n",
    "for i in range(0,n) :\n",
    "    print(\"*\"*i, end =\" \")\n",
    "    print(\" \")\n",
    "for i in range(0,n) :\n",
    "    print(\"*\"*(n-i), end =\" \")\n",
    "    print(\" \")"
   ]
  },
  {
   "cell_type": "markdown",
   "id": "9b5d37c4",
   "metadata": {},
   "source": [
    "## 2. Write a Python program to reverse a word after accepting the input from the user."
   ]
  },
  {
   "cell_type": "code",
   "execution_count": 9,
   "id": "319b0f97",
   "metadata": {},
   "outputs": [
    {
     "name": "stdout",
     "output_type": "stream",
     "text": [
      "Enter word: rakesh\n",
      "hsekar\n"
     ]
    }
   ],
   "source": [
    "word= input('Enter word: ')\n",
    "print(word[::-1]) # slicing in reverse order "
   ]
  },
  {
   "cell_type": "code",
   "execution_count": null,
   "id": "a9afdefd",
   "metadata": {},
   "outputs": [],
   "source": []
  }
 ],
 "metadata": {
  "kernelspec": {
   "display_name": "Python 3",
   "language": "python",
   "name": "python3"
  },
  "language_info": {
   "codemirror_mode": {
    "name": "ipython",
    "version": 3
   },
   "file_extension": ".py",
   "mimetype": "text/x-python",
   "name": "python",
   "nbconvert_exporter": "python",
   "pygments_lexer": "ipython3",
   "version": "3.7.10"
  }
 },
 "nbformat": 4,
 "nbformat_minor": 5
}
